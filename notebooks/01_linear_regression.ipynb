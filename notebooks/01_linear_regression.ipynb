{
 "cells": [
  {
   "cell_type": "markdown",
   "id": "626fe7d2",
   "metadata": {},
   "source": [
    "# Introduction/Motivation\n",
    "TODO: Write an introduction\n",
    "- What problems does Linear regression solve?\n",
    "- Real-world examples where it is used\n",
    "- Why understanding it deeply is important"
   ]
  },
  {
   "cell_type": "markdown",
   "id": "4b8155ea",
   "metadata": {},
   "source": [
    "# Dataset Loading\n",
    "\n",
    "TODO: Load dataset for practice\n",
    "1. Synthetic dataset: play with number of samples, features and noise\n",
    "2. Real dataset: bostom housing"
   ]
  },
  {
   "cell_type": "code",
   "execution_count": null,
   "id": "ca7fb237",
   "metadata": {
    "vscode": {
     "languageId": "plaintext"
    }
   },
   "outputs": [],
   "source": [
    "from data.load_data import load_synthetic_regression, load_boston_dataset\n",
    "\n",
    "# TODO: Load synthetic dataset\n",
    "X, y = load_synthetic_regression(n_samples=100, n_features=1, noise=10, random_state=42)\n",
    "\n",
    "# TODO: Explore dataset\n",
    "# - Check shapes\n",
    "# - Print first few rows\n",
    "# - Plot X vs y (if 1 feature)"
   ]
  },
  {
   "cell_type": "markdown",
   "id": "ffac20e1",
   "metadata": {},
   "source": [
    "# Data processing\n",
    "- Split dataset into train/test\n",
    "- Normalize or standardize features\n",
    "- Visualize distributions"
   ]
  },
  {
   "cell_type": "code",
   "execution_count": null,
   "id": "1ff34b1a",
   "metadata": {
    "vscode": {
     "languageId": "plaintext"
    }
   },
   "outputs": [],
   "source": [
    "from sklearn.model_selection import train_test_split\n",
    "\n",
    "X_train, X_test, y_train, y_test = train_test_split(X, y, test_size=0.2, random_state=42)"
   ]
  },
  {
   "cell_type": "markdown",
   "id": "26b134e7",
   "metadata": {},
   "source": [
    "# Model definition\n",
    "\n",
    "TODO: Initialize LinearRegression model\n",
    "- Why learning rate matters\n",
    "- Why we iterate multiple times\n",
    "- How gradient descent updates parameters\n"
   ]
  },
  {
   "cell_type": "code",
   "execution_count": null,
   "id": "9a27e64f",
   "metadata": {
    "vscode": {
     "languageId": "plaintext"
    }
   },
   "outputs": [],
   "source": [
    "from ml.linear_model import LinearRegression\n",
    "\n",
    "model = LinearRegression(lr=0.01, n_iters=1000)"
   ]
  },
  {
   "cell_type": "markdown",
   "id": "b204933a",
   "metadata": {},
   "source": [
    "# Training the model\n",
    "\n",
    "TODO: Fit the model\n",
    "- Track loss per iteration\n",
    "- Experiment: what happens if we increase/decrease lr or n_iters?"
   ]
  },
  {
   "cell_type": "code",
   "execution_count": null,
   "id": "65a7824e",
   "metadata": {
    "vscode": {
     "languageId": "plaintext"
    }
   },
   "outputs": [],
   "source": [
    "model.fit(X_train, y_train)\n",
    "\n",
    "# TODO: Plot loss history"
   ]
  },
  {
   "cell_type": "markdown",
   "id": "8cfe8044",
   "metadata": {},
   "source": [
    "# Predictions and evaluation\n",
    "TODO: Make predictions on test set\n",
    "- Compute evaluations metrics\n",
    "- Scatter plot: true vs predicted"
   ]
  },
  {
   "cell_type": "code",
   "execution_count": null,
   "id": "dfe78372",
   "metadata": {
    "vscode": {
     "languageId": "plaintext"
    }
   },
   "outputs": [],
   "source": [
    "from ml.evaluation import mean_squared_error, r2_score\n",
    "\n",
    "y_pred = model.predict(X_test)\n",
    "\n",
    "mse = mean_squared_error(y_test, y_pred)\n",
    "r2 = r2_score(y_test, y_pred)\n",
    "print(\"MSE:\", mse)\n",
    "print(\"R²:\", r2)"
   ]
  },
  {
   "cell_type": "markdown",
   "id": "005c39bd",
   "metadata": {},
   "source": [
    "# Insights\n",
    "- How weights relate to the slope of the line\n",
    "- How bias affects predictions\n",
    "- How the learning rate influences convergence\n",
    "- How noise affects prediction accuracy\n",
    "- What would happen with multiple features?"
   ]
  }
 ],
 "metadata": {
  "language_info": {
   "name": "python"
  }
 },
 "nbformat": 4,
 "nbformat_minor": 5
}
