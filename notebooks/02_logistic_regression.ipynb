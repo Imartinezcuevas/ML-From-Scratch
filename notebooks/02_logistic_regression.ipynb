{
 "cells": [
  {
   "cell_type": "code",
   "execution_count": null,
   "id": "1ca65a8f",
   "metadata": {},
   "outputs": [],
   "source": [
    "import sys\n",
    "import os\n",
    "\n",
    "# Get the current notebook's directory\n",
    "notebook_dir = os.getcwd()  # current working directory\n",
    "\n",
    "# Assume 'ml' folder is in the repo root, one level up from notebooks/\n",
    "repo_root = os.path.abspath(os.path.join(notebook_dir, \"..\"))\n",
    "\n",
    "# Add repo root to Python path if not already there\n",
    "if repo_root not in sys.path:\n",
    "    sys.path.insert(0, repo_root)"
   ]
  },
  {
   "cell_type": "code",
   "execution_count": null,
   "id": "d813c07c",
   "metadata": {},
   "outputs": [],
   "source": [
    "from data.load_data import load_synthetic_classification\n",
    "from sklearn.model_selection import train_test_split\n",
    "import numpy as np\n",
    "np.random.seed(42)\n",
    "\n",
    "def make_dataset(n_samples=100, n_features=1, n_informative=None, n_redundant=0, n_repeated=0, n_classes=2, class_sep=1.0, flip_y=0.0, random_state=42):\n",
    "    X, y = load_synthetic_classification(\n",
    "        n_samples=n_samples,\n",
    "        n_features=n_features,\n",
    "        n_informative=n_informative,\n",
    "        n_redundant=n_redundant,\n",
    "        n_repeated=n_repeated,\n",
    "        n_classes=n_classes,\n",
    "        class_sep=class_sep,\n",
    "        flip_y=flip_y,\n",
    "        random_state=random_state\n",
    "    )\n",
    "\n",
    "    X_train, X_test, y_train, y_test = train_test_split(\n",
    "        X, y, test_size=0.2, random_state=42\n",
    "    )\n",
    "    return X_train, X_test, y_train, y_test"
   ]
  }
 ],
 "metadata": {
  "language_info": {
   "name": "python"
  }
 },
 "nbformat": 4,
 "nbformat_minor": 5
}
