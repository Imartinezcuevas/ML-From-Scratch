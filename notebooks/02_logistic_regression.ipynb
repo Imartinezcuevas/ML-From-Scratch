{
 "cells": [
  {
   "cell_type": "code",
   "execution_count": null,
   "id": "1ca65a8f",
   "metadata": {},
   "outputs": [],
   "source": [
    "import sys\n",
    "import os\n",
    "\n",
    "# Get the current notebook's directory\n",
    "notebook_dir = os.getcwd()  # current working directory\n",
    "\n",
    "# Assume 'ml' folder is in the repo root, one level up from notebooks/\n",
    "repo_root = os.path.abspath(os.path.join(notebook_dir, \"..\"))\n",
    "\n",
    "# Add repo root to Python path if not already there\n",
    "if repo_root not in sys.path:\n",
    "    sys.path.insert(0, repo_root)"
   ]
  }
 ],
 "metadata": {
  "language_info": {
   "name": "python"
  }
 },
 "nbformat": 4,
 "nbformat_minor": 5
}
